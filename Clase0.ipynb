{
  "nbformat": 4,
  "nbformat_minor": 0,
  "metadata": {
    "colab": {
      "provenance": []
    },
    "kernelspec": {
      "name": "python3",
      "display_name": "Python 3"
    },
    "language_info": {
      "name": "python"
    }
  },
  "cells": [
    {
      "cell_type": "markdown",
      "source": [
        "# **NUMPY**\n",
        "\n",
        "como su nombre indica, NumPy es un módulo de Python repleto de funciones útiles para trabajar con números. El \"Num\" en la primera parte del nombre NumPy significa números, y Py significa Python. Ahí lo tienes. Si tienes números y estás en Python, sabes qué necesitas importar. Correcto; necesitas importar NumPy, así de simple.\n"
      ],
      "metadata": {
        "id": "c7IAo4G2Ehxx"
      }
    },
    {
      "cell_type": "code",
      "source": [
        "pip install numpy"
      ],
      "metadata": {
        "colab": {
          "base_uri": "https://localhost:8080/"
        },
        "id": "Ez1TbOrlEY-g",
        "outputId": "8de5ceb6-8953-43ab-f4b7-0c9fbf808fa6"
      },
      "execution_count": null,
      "outputs": [
        {
          "output_type": "stream",
          "name": "stdout",
          "text": [
            "Requirement already satisfied: numpy in /usr/local/lib/python3.11/dist-packages (2.0.2)\n"
          ]
        }
      ]
    },
    {
      "cell_type": "code",
      "source": [
        "import numpy as np"
      ],
      "metadata": {
        "id": "Y-650ExtFhUu"
      },
      "execution_count": null,
      "outputs": []
    },
    {
      "cell_type": "markdown",
      "source": [
        "# La funcion arange()\n",
        "\n",
        "Esta funcion produce una secuencia de numeros que van incrementando de manera constante. Ejemplos:"
      ],
      "metadata": {
        "id": "-M4A9ZvsF2gN"
      }
    },
    {
      "cell_type": "code",
      "source": [
        "np.arange(15)"
      ],
      "metadata": {
        "colab": {
          "base_uri": "https://localhost:8080/"
        },
        "id": "DX7UqNawGIQl",
        "outputId": "0533dc86-aa34-4ecb-bebe-5f17b00ea5b5"
      },
      "execution_count": null,
      "outputs": [
        {
          "output_type": "execute_result",
          "data": {
            "text/plain": [
              "array([ 0,  1,  2,  3,  4,  5,  6,  7,  8,  9, 10, 11, 12, 13, 14])"
            ]
          },
          "metadata": {},
          "execution_count": 2
        }
      ]
    },
    {
      "cell_type": "code",
      "source": [
        "np.arange(9, 201)"
      ],
      "metadata": {
        "colab": {
          "base_uri": "https://localhost:8080/"
        },
        "id": "L74vfvgMG3p1",
        "outputId": "2571bb9f-9732-44fb-80c7-e264bb5b5c1c"
      },
      "execution_count": null,
      "outputs": [
        {
          "output_type": "execute_result",
          "data": {
            "text/plain": [
              "array([  9,  10,  11,  12,  13,  14,  15,  16,  17,  18,  19,  20,  21,\n",
              "        22,  23,  24,  25,  26,  27,  28,  29,  30,  31,  32,  33,  34,\n",
              "        35,  36,  37,  38,  39,  40,  41,  42,  43,  44,  45,  46,  47,\n",
              "        48,  49,  50,  51,  52,  53,  54,  55,  56,  57,  58,  59,  60,\n",
              "        61,  62,  63,  64,  65,  66,  67,  68,  69,  70,  71,  72,  73,\n",
              "        74,  75,  76,  77,  78,  79,  80,  81,  82,  83,  84,  85,  86,\n",
              "        87,  88,  89,  90,  91,  92,  93,  94,  95,  96,  97,  98,  99,\n",
              "       100, 101, 102, 103, 104, 105, 106, 107, 108, 109, 110, 111, 112,\n",
              "       113, 114, 115, 116, 117, 118, 119, 120, 121, 122, 123, 124, 125,\n",
              "       126, 127, 128, 129, 130, 131, 132, 133, 134, 135, 136, 137, 138,\n",
              "       139, 140, 141, 142, 143, 144, 145, 146, 147, 148, 149, 150, 151,\n",
              "       152, 153, 154, 155, 156, 157, 158, 159, 160, 161, 162, 163, 164,\n",
              "       165, 166, 167, 168, 169, 170, 171, 172, 173, 174, 175, 176, 177,\n",
              "       178, 179, 180, 181, 182, 183, 184, 185, 186, 187, 188, 189, 190,\n",
              "       191, 192, 193, 194, 195, 196, 197, 198, 199, 200])"
            ]
          },
          "metadata": {},
          "execution_count": 21
        }
      ]
    },
    {
      "cell_type": "markdown",
      "source": [
        "# Funciones np.zeros() y np.ones()\n",
        "\n",
        "crea un conjunto de elementos (ceros y unos) ordenados en filas y columnas, el cual recibe el nombre de **array** en ingles y se puede traducir  como **matriz** o **vector** al español.\n"
      ],
      "metadata": {
        "id": "TCXeMalOHJub"
      }
    },
    {
      "cell_type": "code",
      "source": [
        "#Crearemos una matriz con 4 filas y 5 columnas llena de ceros.\n",
        "\n",
        "np.zeros([4, 5])"
      ],
      "metadata": {
        "colab": {
          "base_uri": "https://localhost:8080/"
        },
        "id": "-9nfNLPBHTE0",
        "outputId": "6f91e1ac-31a0-4984-d11b-abd1fee8dcce"
      },
      "execution_count": null,
      "outputs": [
        {
          "output_type": "execute_result",
          "data": {
            "text/plain": [
              "array([[0., 0., 0., 0., 0.],\n",
              "       [0., 0., 0., 0., 0.],\n",
              "       [0., 0., 0., 0., 0.],\n",
              "       [0., 0., 0., 0., 0.]])"
            ]
          },
          "metadata": {},
          "execution_count": 22
        }
      ]
    },
    {
      "cell_type": "code",
      "source": [
        "np.ones([7,7]) #Crear un vector o matriz con 7 columnas y una unica fila."
      ],
      "metadata": {
        "colab": {
          "base_uri": "https://localhost:8080/"
        },
        "id": "EANk9JvxILcr",
        "outputId": "65dfe463-5ee4-4502-bc7f-43f1b291e739"
      },
      "execution_count": null,
      "outputs": [
        {
          "output_type": "execute_result",
          "data": {
            "text/plain": [
              "array([[1., 1., 1., 1., 1., 1., 1.],\n",
              "       [1., 1., 1., 1., 1., 1., 1.],\n",
              "       [1., 1., 1., 1., 1., 1., 1.],\n",
              "       [1., 1., 1., 1., 1., 1., 1.],\n",
              "       [1., 1., 1., 1., 1., 1., 1.],\n",
              "       [1., 1., 1., 1., 1., 1., 1.],\n",
              "       [1., 1., 1., 1., 1., 1., 1.]])"
            ]
          },
          "metadata": {},
          "execution_count": 23
        }
      ]
    },
    {
      "cell_type": "markdown",
      "source": [
        "En Numpy podemos hacer todo tipo de calculos matematicos y estadisticos para un conjunto de numeros, como calcular el promedio, la mediana, desviacion estandar, etc.\n",
        "\n",
        "Las listas en Python son una de las estructuras de datos más versátiles y utilizadas. Son colecciones ordenadas, mutables y dinámicas que permiten almacenar elementos de diferentes tipos, por ejemplo numeros para realizar operaciones.\n"
      ],
      "metadata": {
        "id": "pw54OEdWIkPU"
      }
    },
    {
      "cell_type": "code",
      "source": [
        "listanumeros = [2,5,7,11,13,17,23,31,37,41,43,47]\n",
        "\n",
        "np.mean(listanumeros)"
      ],
      "metadata": {
        "colab": {
          "base_uri": "https://localhost:8080/"
        },
        "id": "PX6EaJ4bJIeb",
        "outputId": "7ff7f200-c129-4e60-ce11-89f4dc1a1942"
      },
      "execution_count": null,
      "outputs": [
        {
          "output_type": "execute_result",
          "data": {
            "text/plain": [
              "np.float64(23.083333333333332)"
            ]
          },
          "metadata": {},
          "execution_count": 24
        }
      ]
    },
    {
      "cell_type": "code",
      "source": [
        "listanumeros = [2,5,7,11,13,17,23,31,37,41,43,47]\n",
        "numeros = np.array(listanumeros)\n",
        "numeros.mean()"
      ],
      "metadata": {
        "colab": {
          "base_uri": "https://localhost:8080/"
        },
        "id": "v6f_PhuKJuLx",
        "outputId": "6598d6aa-2d1f-490e-a075-07140f279070"
      },
      "execution_count": null,
      "outputs": [
        {
          "output_type": "execute_result",
          "data": {
            "text/plain": [
              "np.float64(23.083333333333332)"
            ]
          },
          "metadata": {},
          "execution_count": 25
        }
      ]
    },
    {
      "cell_type": "code",
      "source": [
        "type(numeros)"
      ],
      "metadata": {
        "colab": {
          "base_uri": "https://localhost:8080/"
        },
        "id": "tVT4-Pq6KRJw",
        "outputId": "af021429-a612-498a-ba7c-6af9d36078e3"
      },
      "execution_count": null,
      "outputs": [
        {
          "output_type": "execute_result",
          "data": {
            "text/plain": [
              "numpy.ndarray"
            ]
          },
          "metadata": {},
          "execution_count": 26
        }
      ]
    },
    {
      "cell_type": "markdown",
      "source": [
        "#Ejercicio\n",
        "\n",
        "Dadas las calificaciones de 10 estudiantes, utilice NumPy para calcular el\n",
        "promedio de sus calificaciones."
      ],
      "metadata": {
        "id": "O43hRoU0LAnm"
      }
    },
    {
      "cell_type": "code",
      "source": [
        "estudiantes = [\"Perla\", \"Juan\", 'Cristian', 'Omar', 'Maria', 'Marisol', 'Pedro',\n",
        "               'Ana', 'Sergio', 'Mariana']\n",
        "\n",
        "matematicas = [8, 5, 6, 7, 6, 10, 7, 7, 6, 7]\n",
        "quimica = [9, 8, 5, 5, 6, 5, 9, 7, 8, 8]\n",
        "historia = [6, 9, 5, 9, 10, 10, 10, 10, 9, 7]"
      ],
      "metadata": {
        "id": "sNaK3qb5LCX_"
      },
      "execution_count": null,
      "outputs": []
    },
    {
      "cell_type": "code",
      "source": [
        "len(estudiantes)"
      ],
      "metadata": {
        "colab": {
          "base_uri": "https://localhost:8080/"
        },
        "id": "0iKjHhfVLxn3",
        "outputId": "b4c93811-bb23-4a52-ffc9-8fdb19f2d092"
      },
      "execution_count": null,
      "outputs": [
        {
          "output_type": "execute_result",
          "data": {
            "text/plain": [
              "10"
            ]
          },
          "metadata": {},
          "execution_count": 38
        }
      ]
    },
    {
      "cell_type": "code",
      "source": [
        "promedios = np.zeros(10)\n",
        "print(promedios)\n",
        "\n",
        "for i in range(len(estudiantes)):\n",
        "  promedios[i] = np.round(np.mean([matematicas[i], quimica[i], historia[i]]), 2)\n",
        "\n",
        "\n",
        "\n",
        "print(promedios)\n"
      ],
      "metadata": {
        "colab": {
          "base_uri": "https://localhost:8080/"
        },
        "id": "AvmCmmMx5qG7",
        "outputId": "6aa75d6e-911f-47a9-d8a1-49f60e414c70"
      },
      "execution_count": null,
      "outputs": [
        {
          "output_type": "stream",
          "name": "stdout",
          "text": [
            "[0. 0. 0. 0. 0. 0. 0. 0. 0. 0.]\n",
            "[7.67 7.33 5.33 7.   7.33 8.33 8.67 8.   7.67 7.33]\n"
          ]
        }
      ]
    },
    {
      "cell_type": "code",
      "source": [
        "for i in range(len(estudiantes)):\n",
        "  print(f'El promedio de {estudiantes[i]} es : {promedios[i]}')"
      ],
      "metadata": {
        "colab": {
          "base_uri": "https://localhost:8080/"
        },
        "id": "qZldKhRO7eN_",
        "outputId": "3be61abd-b7e3-446b-d893-cdd45be85f38"
      },
      "execution_count": null,
      "outputs": [
        {
          "output_type": "stream",
          "name": "stdout",
          "text": [
            "El promedio de Perla es : 7.67\n",
            "El promedio de Juan es : 7.33\n",
            "El promedio de Cristian es : 5.33\n",
            "El promedio de Omar es : 7.0\n",
            "El promedio de Maria es : 7.33\n",
            "El promedio de Marisol es : 8.33\n",
            "El promedio de Pedro es : 8.67\n",
            "El promedio de Ana es : 8.0\n",
            "El promedio de Sergio es : 7.67\n",
            "El promedio de Mariana es : 7.33\n"
          ]
        }
      ]
    },
    {
      "cell_type": "markdown",
      "source": [
        "# La funcion np.linspace()\n",
        "\n",
        "Devuelve numeros espaciados uniformemente en un intervalo especificado. Esta funcion acepta tres entradas, las dos primeras especifican el intervalo y la tercera es el numero de elementos que tendra la salida. Ejemplo:"
      ],
      "metadata": {
        "id": "D8AlKeiz-c4J"
      }
    },
    {
      "cell_type": "code",
      "source": [
        "np.linspace(0,1, 21)"
      ],
      "metadata": {
        "colab": {
          "base_uri": "https://localhost:8080/"
        },
        "id": "HemcSwOt8hDn",
        "outputId": "14ec5e80-e24c-4c6c-a432-dbfe6c85e775"
      },
      "execution_count": null,
      "outputs": [
        {
          "output_type": "execute_result",
          "data": {
            "text/plain": [
              "array([0.  , 0.05, 0.1 , 0.15, 0.2 , 0.25, 0.3 , 0.35, 0.4 , 0.45, 0.5 ,\n",
              "       0.55, 0.6 , 0.65, 0.7 , 0.75, 0.8 , 0.85, 0.9 , 0.95, 1.  ])"
            ]
          },
          "metadata": {},
          "execution_count": 49
        }
      ]
    },
    {
      "cell_type": "code",
      "source": [
        "np.linspace(10, 1000, 100)"
      ],
      "metadata": {
        "colab": {
          "base_uri": "https://localhost:8080/"
        },
        "id": "028t-QohHriT",
        "outputId": "0a696da9-4c1e-423d-8de0-a4e93acac31b"
      },
      "execution_count": null,
      "outputs": [
        {
          "output_type": "execute_result",
          "data": {
            "text/plain": [
              "array([  10.,   20.,   30.,   40.,   50.,   60.,   70.,   80.,   90.,\n",
              "        100.,  110.,  120.,  130.,  140.,  150.,  160.,  170.,  180.,\n",
              "        190.,  200.,  210.,  220.,  230.,  240.,  250.,  260.,  270.,\n",
              "        280.,  290.,  300.,  310.,  320.,  330.,  340.,  350.,  360.,\n",
              "        370.,  380.,  390.,  400.,  410.,  420.,  430.,  440.,  450.,\n",
              "        460.,  470.,  480.,  490.,  500.,  510.,  520.,  530.,  540.,\n",
              "        550.,  560.,  570.,  580.,  590.,  600.,  610.,  620.,  630.,\n",
              "        640.,  650.,  660.,  670.,  680.,  690.,  700.,  710.,  720.,\n",
              "        730.,  740.,  750.,  760.,  770.,  780.,  790.,  800.,  810.,\n",
              "        820.,  830.,  840.,  850.,  860.,  870.,  880.,  890.,  900.,\n",
              "        910.,  920.,  930.,  940.,  950.,  960.,  970.,  980.,  990.,\n",
              "       1000.])"
            ]
          },
          "metadata": {},
          "execution_count": 51
        }
      ]
    },
    {
      "cell_type": "markdown",
      "source": [
        "Esta funcion es muy util para situaciones en las que se necesita probar diferentes valores para encontrar el que mejor se adapte a las necesidades. Ejemplo:\n",
        "\n",
        "\n",
        "Queremos encontrar los valores que satisfacen la siguiente ec.\n",
        "\n",
        "$x^2 -5x + 6 = 0$"
      ],
      "metadata": {
        "id": "D7-uiSbkHz9k"
      }
    },
    {
      "cell_type": "code",
      "source": [
        "posibles = np.linspace(-1000, 1000, 2001) #Probeamos todos los valores enteros entre el -mil y el mil\n",
        "\n",
        "for posible in posibles:\n",
        "  if(posible**2 - 5*posible + 6  == 0):\n",
        "    print(f'Una posible respuesta es: {posible}')"
      ],
      "metadata": {
        "colab": {
          "base_uri": "https://localhost:8080/"
        },
        "id": "jWff4LJmI01H",
        "outputId": "f26f2442-7768-45b3-9fa0-835ef0e26822"
      },
      "execution_count": null,
      "outputs": [
        {
          "output_type": "stream",
          "name": "stdout",
          "text": [
            "Una posible respuesta es: 2.0\n",
            "Una posible respuesta es: 3.0\n"
          ]
        }
      ]
    }
  ]
}